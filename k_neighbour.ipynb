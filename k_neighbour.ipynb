{
  "nbformat": 4,
  "nbformat_minor": 0,
  "metadata": {
    "colab": {
      "provenance": [],
      "authorship_tag": "ABX9TyPISgZoHDRzzvf3g/2B2u/S",
      "include_colab_link": true
    },
    "kernelspec": {
      "name": "python3",
      "display_name": "Python 3"
    },
    "language_info": {
      "name": "python"
    }
  },
  "cells": [
    {
      "cell_type": "markdown",
      "metadata": {
        "id": "view-in-github",
        "colab_type": "text"
      },
      "source": [
        "<a href=\"https://colab.research.google.com/github/Min-Thway-Htut/Machine-Learning/blob/master/k_neighbour.ipynb\" target=\"_parent\"><img src=\"https://colab.research.google.com/assets/colab-badge.svg\" alt=\"Open In Colab\"/></a>"
      ]
    },
    {
      "cell_type": "code",
      "execution_count": 5,
      "metadata": {
        "id": "o-pLqxUwDPKQ"
      },
      "outputs": [],
      "source": [
        "import pandas as pd\n",
        "from sklearn.datasets import fetch_openml"
      ]
    },
    {
      "cell_type": "code",
      "source": [
        "data  = pd.read_csv('/content/sample_data/mnist_test.csv')"
      ],
      "metadata": {
        "id": "8BvsWt8JEUa2"
      },
      "execution_count": 7,
      "outputs": []
    },
    {
      "cell_type": "code",
      "source": [
        "print(data.head())"
      ],
      "metadata": {
        "colab": {
          "base_uri": "https://localhost:8080/"
        },
        "id": "GCLJuX0qE_wc",
        "outputId": "48a7cd5b-1e1f-4189-d256-8662da943399"
      },
      "execution_count": 9,
      "outputs": [
        {
          "output_type": "stream",
          "name": "stdout",
          "text": [
            "   7  0  0.1  0.2  0.3  0.4  0.5  0.6  0.7  0.8  ...  0.658  0.659  0.660  \\\n",
            "0  2  0    0    0    0    0    0    0    0    0  ...      0      0      0   \n",
            "1  1  0    0    0    0    0    0    0    0    0  ...      0      0      0   \n",
            "2  0  0    0    0    0    0    0    0    0    0  ...      0      0      0   \n",
            "3  4  0    0    0    0    0    0    0    0    0  ...      0      0      0   \n",
            "4  1  0    0    0    0    0    0    0    0    0  ...      0      0      0   \n",
            "\n",
            "   0.661  0.662  0.663  0.664  0.665  0.666  0.667  \n",
            "0      0      0      0      0      0      0      0  \n",
            "1      0      0      0      0      0      0      0  \n",
            "2      0      0      0      0      0      0      0  \n",
            "3      0      0      0      0      0      0      0  \n",
            "4      0      0      0      0      0      0      0  \n",
            "\n",
            "[5 rows x 785 columns]\n"
          ]
        }
      ]
    },
    {
      "cell_type": "code",
      "source": [
        "# Spliting dataset into training and test sets\n",
        "\n",
        "from sklearn.model_selection import train_test_split\n",
        "\n",
        "X = data.iloc[:, :-1]\n",
        "y = data.iloc[:, -1]\n",
        "\n",
        "X_train, X_test, y_train, y_test = train_test_split(X,y,test_size=0.2, random_state=42)\n"
      ],
      "metadata": {
        "id": "dr5Omr0oFE93"
      },
      "execution_count": 10,
      "outputs": []
    },
    {
      "cell_type": "code",
      "source": [
        "# Data Exploration and Preprocessing\n",
        "\n",
        "print(data.describe())\n",
        "print(data.info())\n",
        "print(y.value_counts())\n",
        "\n",
        "X_train = X_train\n",
        "X_test = X_test"
      ],
      "metadata": {
        "colab": {
          "base_uri": "https://localhost:8080/"
        },
        "id": "akRTXQbEGFwY",
        "outputId": "59b67b65-9d2f-440f-8b01-9f37cb21cb64"
      },
      "execution_count": 12,
      "outputs": [
        {
          "output_type": "stream",
          "name": "stdout",
          "text": [
            "                 7       0     0.1     0.2     0.3     0.4     0.5     0.6  \\\n",
            "count  9999.000000  9999.0  9999.0  9999.0  9999.0  9999.0  9999.0  9999.0   \n",
            "mean      4.443144     0.0     0.0     0.0     0.0     0.0     0.0     0.0   \n",
            "std       2.895897     0.0     0.0     0.0     0.0     0.0     0.0     0.0   \n",
            "min       0.000000     0.0     0.0     0.0     0.0     0.0     0.0     0.0   \n",
            "25%       2.000000     0.0     0.0     0.0     0.0     0.0     0.0     0.0   \n",
            "50%       4.000000     0.0     0.0     0.0     0.0     0.0     0.0     0.0   \n",
            "75%       7.000000     0.0     0.0     0.0     0.0     0.0     0.0     0.0   \n",
            "max       9.000000     0.0     0.0     0.0     0.0     0.0     0.0     0.0   \n",
            "\n",
            "          0.7     0.8  ...        0.658        0.659        0.660  \\\n",
            "count  9999.0  9999.0  ...  9999.000000  9999.000000  9999.000000   \n",
            "mean      0.0     0.0  ...     0.179318     0.163616     0.052605   \n",
            "std       0.0     0.0  ...     5.674433     5.736359     2.420125   \n",
            "min       0.0     0.0  ...     0.000000     0.000000     0.000000   \n",
            "25%       0.0     0.0  ...     0.000000     0.000000     0.000000   \n",
            "50%       0.0     0.0  ...     0.000000     0.000000     0.000000   \n",
            "75%       0.0     0.0  ...     0.000000     0.000000     0.000000   \n",
            "max       0.0     0.0  ...   253.000000   253.000000   156.000000   \n",
            "\n",
            "             0.661   0.662   0.663   0.664   0.665   0.666   0.667  \n",
            "count  9999.000000  9999.0  9999.0  9999.0  9999.0  9999.0  9999.0  \n",
            "mean      0.000600     0.0     0.0     0.0     0.0     0.0     0.0  \n",
            "std       0.060003     0.0     0.0     0.0     0.0     0.0     0.0  \n",
            "min       0.000000     0.0     0.0     0.0     0.0     0.0     0.0  \n",
            "25%       0.000000     0.0     0.0     0.0     0.0     0.0     0.0  \n",
            "50%       0.000000     0.0     0.0     0.0     0.0     0.0     0.0  \n",
            "75%       0.000000     0.0     0.0     0.0     0.0     0.0     0.0  \n",
            "max       6.000000     0.0     0.0     0.0     0.0     0.0     0.0  \n",
            "\n",
            "[8 rows x 785 columns]\n",
            "<class 'pandas.core.frame.DataFrame'>\n",
            "RangeIndex: 9999 entries, 0 to 9998\n",
            "Columns: 785 entries, 7 to 0.667\n",
            "dtypes: int64(785)\n",
            "memory usage: 59.9 MB\n",
            "None\n",
            "0.667\n",
            "0    9999\n",
            "Name: count, dtype: int64\n"
          ]
        }
      ]
    },
    {
      "cell_type": "code",
      "source": [
        "#Feature Engineering\n",
        "\n",
        "from sklearn.neighbors import KNeighborsClassifier\n",
        "from sklearn.tree import DecisionTreeClassifier\n",
        "from sklearn.svm import SVC"
      ],
      "metadata": {
        "id": "lYoSejEGGUSx"
      },
      "execution_count": 13,
      "outputs": []
    },
    {
      "cell_type": "code",
      "source": [
        "# Define a Grid of Hyperparameters\n",
        "\n",
        "from sklearn.model_selection import GridSearchCV\n",
        "\n",
        "param_grid_knn = {\n",
        "    'n_neighbors': [3,5,7],\n",
        "    'weights': ['uniform', 'distance']\n",
        "}\n",
        "\n",
        "param_grid_dt = {\n",
        "    'max_depth' : [10,20,30],\n",
        "    'min_samples_split': [2,5,10]\n",
        "}\n",
        "\n",
        "param_grid_svm = {\n",
        "    'C': [0.1,1,10],\n",
        "    'kernel': ['linear', 'rbf']\n",
        "}"
      ],
      "metadata": {
        "id": "TohjQNvZGqsS"
      },
      "execution_count": 14,
      "outputs": []
    },
    {
      "cell_type": "code",
      "source": [
        "# Conduct Grid Search with K-Fold Cross-Validation\n",
        "\n",
        "from sklearn.model_selection import StratifiedKFold\n",
        "\n",
        "cv = StratifiedKFold(n_splits=5, shuffle=True, random_state=42)\n",
        "\n",
        "knn = KNeighborsClassifier()\n",
        "grid_search_knn = GridSearchCV(knn, param_grid_knn, cv=cv, n_jobs=-1)\n",
        "grid_search_knn.fit(X_train, y_train)\n",
        "\n",
        "dt = DecisionTreeClassifier()\n",
        "grid_search_dt = GridSearchCV(dt, param_grid_dt, cv=cv, n_jobs=-1 )\n",
        "grid_search_dt.fit(X_train, y_train)\n",
        "\n",
        "svm = SVC()\n",
        "grid_search_svm = GridSearchCV(svm, param_grid_svm, cv=cv, n_jobs=-1 )\n",
        "\n",
        "print(\"Best KNN:\", grid_search_knn.best_params_)\n",
        "print(\"Best Decision Tree:\", grid_search_dt.best_params_)\n"
      ],
      "metadata": {
        "colab": {
          "base_uri": "https://localhost:8080/"
        },
        "id": "Rd_qJyygHUgP",
        "outputId": "47f0daee-a179-4d07-f594-07a9c1d15391"
      },
      "execution_count": 17,
      "outputs": [
        {
          "output_type": "stream",
          "name": "stdout",
          "text": [
            "Best KNN: {'n_neighbors': 3, 'weights': 'uniform'}\n",
            "Best Decision Tree: {'max_depth': 10, 'min_samples_split': 2}\n"
          ]
        }
      ]
    },
    {
      "cell_type": "code",
      "source": [
        "# Train the best model\n",
        "best_knn = grid_search_knn.best_estimator_\n",
        "best_dt = grid_search_dt.best_estimator_\n",
        "\n",
        "best_knn.fit(X_train, y_train)\n",
        "best_dt.fit(X_train, y_train)"
      ],
      "metadata": {
        "colab": {
          "base_uri": "https://localhost:8080/",
          "height": 74
        },
        "id": "XvqxAnXmJlnW",
        "outputId": "3ca10f01-5fa2-418e-c6e1-055ccc8c87fc"
      },
      "execution_count": 22,
      "outputs": [
        {
          "output_type": "execute_result",
          "data": {
            "text/plain": [
              "DecisionTreeClassifier(max_depth=10)"
            ],
            "text/html": [
              "<style>#sk-container-id-1 {color: black;}#sk-container-id-1 pre{padding: 0;}#sk-container-id-1 div.sk-toggleable {background-color: white;}#sk-container-id-1 label.sk-toggleable__label {cursor: pointer;display: block;width: 100%;margin-bottom: 0;padding: 0.3em;box-sizing: border-box;text-align: center;}#sk-container-id-1 label.sk-toggleable__label-arrow:before {content: \"▸\";float: left;margin-right: 0.25em;color: #696969;}#sk-container-id-1 label.sk-toggleable__label-arrow:hover:before {color: black;}#sk-container-id-1 div.sk-estimator:hover label.sk-toggleable__label-arrow:before {color: black;}#sk-container-id-1 div.sk-toggleable__content {max-height: 0;max-width: 0;overflow: hidden;text-align: left;background-color: #f0f8ff;}#sk-container-id-1 div.sk-toggleable__content pre {margin: 0.2em;color: black;border-radius: 0.25em;background-color: #f0f8ff;}#sk-container-id-1 input.sk-toggleable__control:checked~div.sk-toggleable__content {max-height: 200px;max-width: 100%;overflow: auto;}#sk-container-id-1 input.sk-toggleable__control:checked~label.sk-toggleable__label-arrow:before {content: \"▾\";}#sk-container-id-1 div.sk-estimator input.sk-toggleable__control:checked~label.sk-toggleable__label {background-color: #d4ebff;}#sk-container-id-1 div.sk-label input.sk-toggleable__control:checked~label.sk-toggleable__label {background-color: #d4ebff;}#sk-container-id-1 input.sk-hidden--visually {border: 0;clip: rect(1px 1px 1px 1px);clip: rect(1px, 1px, 1px, 1px);height: 1px;margin: -1px;overflow: hidden;padding: 0;position: absolute;width: 1px;}#sk-container-id-1 div.sk-estimator {font-family: monospace;background-color: #f0f8ff;border: 1px dotted black;border-radius: 0.25em;box-sizing: border-box;margin-bottom: 0.5em;}#sk-container-id-1 div.sk-estimator:hover {background-color: #d4ebff;}#sk-container-id-1 div.sk-parallel-item::after {content: \"\";width: 100%;border-bottom: 1px solid gray;flex-grow: 1;}#sk-container-id-1 div.sk-label:hover label.sk-toggleable__label {background-color: #d4ebff;}#sk-container-id-1 div.sk-serial::before {content: \"\";position: absolute;border-left: 1px solid gray;box-sizing: border-box;top: 0;bottom: 0;left: 50%;z-index: 0;}#sk-container-id-1 div.sk-serial {display: flex;flex-direction: column;align-items: center;background-color: white;padding-right: 0.2em;padding-left: 0.2em;position: relative;}#sk-container-id-1 div.sk-item {position: relative;z-index: 1;}#sk-container-id-1 div.sk-parallel {display: flex;align-items: stretch;justify-content: center;background-color: white;position: relative;}#sk-container-id-1 div.sk-item::before, #sk-container-id-1 div.sk-parallel-item::before {content: \"\";position: absolute;border-left: 1px solid gray;box-sizing: border-box;top: 0;bottom: 0;left: 50%;z-index: -1;}#sk-container-id-1 div.sk-parallel-item {display: flex;flex-direction: column;z-index: 1;position: relative;background-color: white;}#sk-container-id-1 div.sk-parallel-item:first-child::after {align-self: flex-end;width: 50%;}#sk-container-id-1 div.sk-parallel-item:last-child::after {align-self: flex-start;width: 50%;}#sk-container-id-1 div.sk-parallel-item:only-child::after {width: 0;}#sk-container-id-1 div.sk-dashed-wrapped {border: 1px dashed gray;margin: 0 0.4em 0.5em 0.4em;box-sizing: border-box;padding-bottom: 0.4em;background-color: white;}#sk-container-id-1 div.sk-label label {font-family: monospace;font-weight: bold;display: inline-block;line-height: 1.2em;}#sk-container-id-1 div.sk-label-container {text-align: center;}#sk-container-id-1 div.sk-container {/* jupyter's `normalize.less` sets `[hidden] { display: none; }` but bootstrap.min.css set `[hidden] { display: none !important; }` so we also need the `!important` here to be able to override the default hidden behavior on the sphinx rendered scikit-learn.org. See: https://github.com/scikit-learn/scikit-learn/issues/21755 */display: inline-block !important;position: relative;}#sk-container-id-1 div.sk-text-repr-fallback {display: none;}</style><div id=\"sk-container-id-1\" class=\"sk-top-container\"><div class=\"sk-text-repr-fallback\"><pre>DecisionTreeClassifier(max_depth=10)</pre><b>In a Jupyter environment, please rerun this cell to show the HTML representation or trust the notebook. <br />On GitHub, the HTML representation is unable to render, please try loading this page with nbviewer.org.</b></div><div class=\"sk-container\" hidden><div class=\"sk-item\"><div class=\"sk-estimator sk-toggleable\"><input class=\"sk-toggleable__control sk-hidden--visually\" id=\"sk-estimator-id-1\" type=\"checkbox\" checked><label for=\"sk-estimator-id-1\" class=\"sk-toggleable__label sk-toggleable__label-arrow\">DecisionTreeClassifier</label><div class=\"sk-toggleable__content\"><pre>DecisionTreeClassifier(max_depth=10)</pre></div></div></div></div></div>"
            ]
          },
          "metadata": {},
          "execution_count": 22
        }
      ]
    },
    {
      "cell_type": "code",
      "source": [
        "from sklearn.metrics import accuracy_score, classification_report, confusion_matrix\n",
        "\n",
        "# Evaluate KNN\n",
        "y_pred_knn = best_knn.predict(X_test)\n",
        "print(\"KNN Accuracy:\", accuracy_score(y_test, y_pred_knn))\n",
        "print(\"KNN Classification Report:\\n\", classification_report(y_test, y_pred_knn))\n",
        "print(\"KNN Confusion Matrix:\\n\", confusion_matrix(y_test, y_pred_knn))\n",
        "\n",
        "# Evaluate Decision Tree\n",
        "y_pred_dt = best_dt.predict(X_test)\n",
        "print(\"Decision Tree Accuracy:\", accuracy_score(y_test, y_pred_dt))\n",
        "print(\"Decision Tree Classification Report:\\n\", classification_report(y_test, y_pred_dt))\n",
        "print(\"Decision Tree Confusion Matrix:\\n\", confusion_matrix(y_test, y_pred_dt))\n",
        "\n",
        "\\"
      ],
      "metadata": {
        "colab": {
          "base_uri": "https://localhost:8080/"
        },
        "id": "V3DEuZUJKjp2",
        "outputId": "62fb00c0-34dc-48ef-e976-b5e57eb1412c"
      },
      "execution_count": 28,
      "outputs": [
        {
          "output_type": "stream",
          "name": "stdout",
          "text": [
            "KNN Accuracy: 1.0\n",
            "KNN Classification Report:\n",
            "               precision    recall  f1-score   support\n",
            "\n",
            "           0       1.00      1.00      1.00      2000\n",
            "\n",
            "    accuracy                           1.00      2000\n",
            "   macro avg       1.00      1.00      1.00      2000\n",
            "weighted avg       1.00      1.00      1.00      2000\n",
            "\n",
            "KNN Confusion Matrix:\n",
            " [[2000]]\n",
            "Decision Tree Accuracy: 1.0\n",
            "Decision Tree Classification Report:\n",
            "               precision    recall  f1-score   support\n",
            "\n",
            "           0       1.00      1.00      1.00      2000\n",
            "\n",
            "    accuracy                           1.00      2000\n",
            "   macro avg       1.00      1.00      1.00      2000\n",
            "weighted avg       1.00      1.00      1.00      2000\n",
            "\n",
            "Decision Tree Confusion Matrix:\n",
            " [[2000]]\n"
          ]
        }
      ]
    }
  ]
}